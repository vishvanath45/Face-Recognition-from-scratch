{
 "cells": [
  {
   "cell_type": "markdown",
   "metadata": {},
   "source": [
    "# Precog Project\n",
    "## Mass Downloading of Images"
   ]
  },
  {
   "cell_type": "code",
   "execution_count": null,
   "metadata": {
    "collapsed": true
   },
   "outputs": [],
   "source": [
    "# This was the python Script Used for Downloading Images\n",
    "# used ImageSoup.\n",
    "# images were saved like *-ak.jpg\n",
    "#                        *-namo.jpg\n",
    "#                        *-people.jpg"
   ]
  },
  {
   "cell_type": "code",
   "execution_count": null,
   "metadata": {
    "collapsed": true
   },
   "outputs": [],
   "source": [
    "from imagesoup import ImageSoup\n",
    "import time\n",
    "soup = ImageSoup()"
   ]
  },
  {
   "cell_type": "code",
   "execution_count": null,
   "metadata": {
    "collapsed": true
   },
   "outputs": [],
   "source": [
    "# To calculate total time taken to download\n",
    "start_time = time.time()"
   ]
  },
  {
   "cell_type": "code",
   "execution_count": null,
   "metadata": {
    "collapsed": true
   },
   "outputs": [],
   "source": [
    "images = soup.search('\"arvind kejriwal\"', n_images=1000)\n",
    "# search query returned only 700 results :()"
   ]
  },
  {
   "cell_type": "code",
   "execution_count": null,
   "metadata": {
    "collapsed": true
   },
   "outputs": [],
   "source": [
    "for i in range(len(images)):\n",
    "    k = images[i]\n",
    "    url_link = k.URL\n",
    "#     finding extension of image\n",
    "    extention = url_link.split(\".\")\n",
    "    extentionstr = str(extention[-1])\n",
    "#     cleared extension name like abc.jpg/id=asd\n",
    "    extentionstr = extentionstr.strip('/\\\\')\n",
    "#     cleared extension name like abc.jpg?3423\n",
    "    extentionstr = extentionstr.strip('?\\\\')\n",
    "    \n",
    "    file_name = str(i)+\"-ak.\"+extentionstr # for AK\n",
    "    try:\n",
    "        k.to_file(file_name)\n",
    "        print \"saved file \", i\n",
    "    except:\n",
    "        print \"some error occured\"\n",
    "    "
   ]
  },
  {
   "cell_type": "code",
   "execution_count": null,
   "metadata": {
    "collapsed": true
   },
   "outputs": [],
   "source": [
    "# finally prints the total time taken to download all images\n",
    "print(\"--- %s seconds ---\" % (time.time() - start_time))"
   ]
  },
  {
   "cell_type": "code",
   "execution_count": null,
   "metadata": {
    "collapsed": true
   },
   "outputs": [],
   "source": []
  }
 ],
 "metadata": {
  "kernelspec": {
   "display_name": "Python 2",
   "language": "python",
   "name": "python2"
  },
  "language_info": {
   "codemirror_mode": {
    "name": "ipython",
    "version": 2
   },
   "file_extension": ".py",
   "mimetype": "text/x-python",
   "name": "python",
   "nbconvert_exporter": "python",
   "pygments_lexer": "ipython2",
   "version": "2.7.13"
  }
 },
 "nbformat": 4,
 "nbformat_minor": 2
}
