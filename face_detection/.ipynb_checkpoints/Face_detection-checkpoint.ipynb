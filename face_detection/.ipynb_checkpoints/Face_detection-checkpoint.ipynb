{
 "cells": [
  {
   "cell_type": "markdown",
   "metadata": {},
   "source": [
    "# Precog Project\n",
    "## Face Detection and Cleaning Data"
   ]
  },
  {
   "cell_type": "code",
   "execution_count": 1,
   "metadata": {
    "collapsed": true
   },
   "outputs": [],
   "source": [
    "# I have Downloaded Several Photos through Python Script of Given Classes\n",
    "# Namo in /dataset/namo/ *-namo.jpg\n",
    "# Ak in /dataset/namo/ *-ak.jpg\n",
    "# people in /dataset/people/*-people.jpg\n",
    "# I have around 700 images in each class"
   ]
  },
  {
   "cell_type": "code",
   "execution_count": 2,
   "metadata": {
    "collapsed": true
   },
   "outputs": [],
   "source": [
    "# My aim here is to detect face, crop them in 200*200 pixels and align them \n",
    "# I tried using Haar Cascade library but results were very poor, so I searched and \n",
    "# currently I am using Dlib libray for Face Detection and OpenFace Library for Face Alignment"
   ]
  },
  {
   "cell_type": "code",
   "execution_count": null,
   "metadata": {
    "collapsed": true
   },
   "outputs": [],
   "source": [
    "import cv2\n",
    "import sys\n",
    "import dlib\n",
    "import os\n",
    "import numpy as np\n",
    "from skimage import io\n",
    "import openface\n",
    "from PIL import Image\n",
    "from resizeimage import resizeimage"
   ]
  },
  {
   "cell_type": "code",
   "execution_count": null,
   "metadata": {
    "collapsed": true
   },
   "outputs": [],
   "source": [
    "# HOG face prediction object\n",
    "predictor_model = \"./shape_predictor_68_face_landmarks.dat\""
   ]
  },
  {
   "cell_type": "code",
   "execution_count": null,
   "metadata": {
    "collapsed": true
   },
   "outputs": [],
   "source": [
    "face_detector = dlib.get_frontal_face_detector()\n",
    "face_aligner = openface.AlignDlib(predictor_model)"
   ]
  },
  {
   "cell_type": "code",
   "execution_count": null,
   "metadata": {
    "collapsed": true
   },
   "outputs": [],
   "source": [
    "# variable for image name\n",
    "kk = 0\n",
    "# for counting images lost due to face not being able to detected\n",
    "errorcount = 0"
   ]
  },
  {
   "cell_type": "code",
   "execution_count": null,
   "metadata": {
    "collapsed": true
   },
   "outputs": [],
   "source": [
    "#  for 730 images in namo dataset\n",
    "for j in range(0,730):\n",
    "    file_name = \"./dataset/namo/\"+str(j)+\"-namo.jpg\"\n",
    "    \n",
    "    if(not os.path.isfile(file_name)):\n",
    "        continue\n",
    "        \n",
    "    image = io.imread(file_name)\n",
    "    \n",
    "    detected_faces = face_detector(image, 1)\n",
    "    \n",
    "    for i, face_rect in enumerate(detected_faces):\n",
    "        try:\n",
    "            alignedFace = face_aligner.align(534, image, face_rect,\n",
    "                                             landmarkIndices=openface.AlignDlib.OUTER_EYES_AND_NOSE)\n",
    "\n",
    "#         Here the images were coming in BGR fromat, need to convert it \n",
    "            alignedFace = cv2.cvtColor(alignedFace, cv2.COLOR_BGR2RGB)\n",
    "        except:\n",
    "            print \"error \",errorconut\n",
    "            errorconut += 1\n",
    "            continue\n",
    "            \n",
    "        \n",
    "        cv2.imwrite(\"./in_transition.jpg\", alignedFace)\n",
    "        \n",
    "#         Now I saving the imges to folder names namo_final_face_aligned_resized\n",
    "\n",
    "        final_add = \"./namo_final_face_aligned_resized/\"+str(kk)+\".jpg\"\n",
    "        kk += 1\n",
    "        \n",
    "        with open('./in_transition.jpg', 'r+b') as f:\n",
    "\n",
    "        "
   ]
  },
  {
   "cell_type": "code",
   "execution_count": null,
   "metadata": {
    "collapsed": true
   },
   "outputs": [],
   "source": []
  }
 ],
 "metadata": {
  "kernelspec": {
   "display_name": "Python 2",
   "language": "python",
   "name": "python2"
  },
  "language_info": {
   "codemirror_mode": {
    "name": "ipython",
    "version": 2
   },
   "file_extension": ".py",
   "mimetype": "text/x-python",
   "name": "python",
   "nbconvert_exporter": "python",
   "pygments_lexer": "ipython2",
   "version": "2.7.13"
  }
 },
 "nbformat": 4,
 "nbformat_minor": 2
}
